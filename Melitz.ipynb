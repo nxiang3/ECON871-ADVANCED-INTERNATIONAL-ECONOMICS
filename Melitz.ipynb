{
 "cells": [
  {
   "cell_type": "code",
   "execution_count": 1,
   "metadata": {},
   "outputs": [],
   "source": [
    "import numpy as np                          # numerical computing\n",
    "from scipy.integrate import quad            # numerical integration\n",
    "import scipy.optimize                       # Root finding routines\n",
    "import matplotlib.pyplot as plt             # plotting\n",
    "\n",
    "# Format output so floats have 3 decimal places\n",
    "np.set_printoptions(formatter={'float': lambda x: \"{0:0.3f}\".format(x)})"
   ]
  },
  {
   "cell_type": "code",
   "execution_count": 2,
   "metadata": {},
   "outputs": [],
   "source": [
    "def cdfX(x, xBar, gamma):\n",
    "    '''The cdf of the productivity distribution.'''\n",
    "    return 1-(xBar/x)**gamma\n",
    "\n",
    "def pdfX(x, xBar, gamma):\n",
    "    '''The pdf of the productivity distribution.'''\n",
    "    return gamma * xBar**gamma * x**(-gamma-1)\n",
    "\n",
    "\n",
    "def priceIntegrand(x, rho, xBar, gamma):\n",
    "    '''The integrand for the aggregate price index. Integrate this to compute P.'''\n",
    "    return x**(rho/(1-rho)) * pdfX(x, xBar, gamma)\n",
    "\n",
    "def computeP(xHat, i, mu, tau, rho, xBar, N, gamma):\n",
    "    '''Computes the aggregate price index given guesses of P and Pi.'''\n",
    "    temp = 0\n",
    "    for j in range(0,N):\n",
    "        temp += mu[j]*(tau[i,j]/rho)**(-rho/(1-rho)) * quad(priceIntegrand, xHat[i,j], np.inf, args=(rho, xBar[j], gamma))[0]\n",
    "\n",
    "    return temp**(-(1-rho)/rho);"
   ]
  },
  {
   "cell_type": "code",
   "execution_count": 3,
   "metadata": {},
   "outputs": [],
   "source": [
    "def profitIntegrand(x, rho, xBar, gamma):\n",
    "    '''This is the same as the integrand in the price index, but written separately for clarity. \n",
    "    Integrate this to compute Pi.'''\n",
    "    return x**(rho/(1-rho)) * pdfX(x, xBar, gamma)\n",
    "\n",
    "def computePi(xHat, guessP, i, mu, tau, rho, xBar, N, gama, alpha, inc, k):\n",
    "    '''Computes aggregate profits given the guess of P and Pi'''\n",
    "\n",
    "    Pi=0\n",
    "    for j in range(0,N):\n",
    "        Pi += mu[i]*(1-rho)*alpha*inc[j]*(tau[i,j]/guessP[j]/rho)**(-rho/(1-rho))*quad(profitIntegrand, xHat[i,j], np.inf, args=(rho, xBar[i], gamma))[0]\n",
    "        Pi -=  mu[i] * k[i,j] * ( 1 - cdfX(xHat[i,j], xBar[i], gamma) )    \n",
    "    \n",
    "    return Pi"
   ]
  },
  {
   "cell_type": "code",
   "execution_count": 4,
   "metadata": {},
   "outputs": [],
   "source": [
    "\n",
    "def compute_cutoffs(N, rho, alpha, P, tau, w, inc):\n",
    "    '''Given P (and Pi, in inc) compute the breakeven productivity for each market.'''\n",
    "    xHat = np.empty((N,N))\n",
    "    \n",
    "    for j in range(0,N):\n",
    "        tt = ((1-rho)*alpha* inc[j])**((1-rho)/(-rho)) / (rho*P[j])\n",
    "        \n",
    "        for i in range(0,N):\n",
    "            xHat[i,j] = tau[i,j]*w[i] * tt * k[i,j]**((1-rho)/rho)\n",
    "    \n",
    "    return xHat"
   ]
  },
  {
   "cell_type": "code",
   "execution_count": 5,
   "metadata": {},
   "outputs": [],
   "source": [
    "def sysEq(guess, mu, tau, rho, xBar, N, gamma, alpha, w, L, k):\n",
    "    '''Solve this system of equations (in Pi and P) to find equilibrium.'''\n",
    "    \n",
    "    guessP, guessPi = guess[0:N], guess[N:]\n",
    "    inc = w*L + guessPi\n",
    "    \n",
    "    # Given guesses for P and Pi, compute the cutoff productivities for each i,j\n",
    "    xHat = compute_cutoffs(N, rho, alpha, guessP, tau, w, inc)\n",
    "    \n",
    "    # Return the difference between the guesses for P and Pi, and the P and Pi implied by the guesses\n",
    "    # We have an equilibrium when these are zero\n",
    "    err = np.empty(2*N)\n",
    "    for i in range(0,N):\n",
    "        err[i]   = computeP (xHat, i, mu, tau, rho, xBar, N, gamma) - guessP[i]\n",
    "        err[N+i] = computePi(xHat, guessP, i, mu, tau, rho, xBar, N, gamma, alpha, inc, k) - guessPi[i]\n",
    "    \n",
    "    return err"
   ]
  },
  {
   "cell_type": "code",
   "execution_count": 6,
   "metadata": {},
   "outputs": [],
   "source": [
    "def sales_integrand(x, tau, rho, xBar, gamma): \n",
    "    '''Integrate this to compute the aggregate sales'''\n",
    "    return (tau/(rho*x))**(-1/(1-rho))/(rho*x)*pdfX(x, xBar, gamma)\n",
    "\n",
    "def sales(P, mu, alpha, inc, rho, xHat, xBar, gamma, tau):\n",
    "    '''Mass of firms from i producing for market j and their sales.'''\n",
    "    \n",
    "    mass = np.empty((N,N))\n",
    "    sales = np.empty((N,N))\n",
    "    \n",
    "    for i in range(0,N):\n",
    "        for j in range(0,N):\n",
    "            mass[i,j] = mu[i] * ( 1-cdfX(xHat[i,j], xBar[i], gamma) )\n",
    "            sales[i,j] = (mu[i]*alpha*inc[j]*P[j]**(rho/(1-rho))*\n",
    "                          quad(sales_integrand, xHat[i,j], np.inf, args=(tau[i,j], rho, xBar[i], gamma))[0])\n",
    "        \n",
    "    return mass, sales"
   ]
  },
  {
   "cell_type": "code",
   "execution_count": 7,
   "metadata": {},
   "outputs": [],
   "source": [
    "def report_results(sol, w, L, N, rho, alpha, tau, gamma, xBar):\n",
    "    '''Print out equilibrium objects of interest. Return the sales matrix for further use.'''\n",
    "    P, Pi = sol[0:N], sol[N:]\n",
    "    inc = w*L + Pi\n",
    "    xHat = compute_cutoffs(N, rho, alpha, P, tau, w, inc)\n",
    "    m, s = sales(P, mu, alpha, inc, rho, xHat, xBar, gamma, tau)\n",
    "\n",
    "    print('1. The cutoff productivities are:\\n', xHat)\n",
    "    print('\\n2. The masses of differentiated imported goods consumed are {0:.4f} and {1:.4f}.'.format(m[0,1], m[1,0]))\n",
    "\n",
    "    print('\\n3. The masses of differentiated domestic goods consumed are {0:.4f} and {1:.4f}.'.format(m[0,0], m[1,1]))\n",
    "    print('\\n4. The CES aggregate price indexes for differentiated goods are', P)\n",
    "    print('\\n5. The f.o.b. value of imports is {0:.4f} and {1:.4f}.'.format(s[0,1], s[1,0]))\n",
    "    print('\\n6. The value of consumption from domestic firms is {0:.4f} and {1:.4f}.'.format(s[0,0], s[1,1]))\n",
    "    \n",
    "    return s"
   ]
  },
  {
   "cell_type": "code",
   "execution_count": 9,
   "metadata": {},
   "outputs": [],
   "source": [
    "def elasticity(sales_high, sales_low, tau_high, tau_low):\n",
    "    '''Returns the elasticity of imports with respect to tariffs. I multiply by -1 to report positive numbers.'''\n",
    "    num = (sales_low[1,0]/sales_low[0,0]) / (sales_high[1,0]/sales_high[0,0]) -1\n",
    "    den = tau_low[1,0]/tau_high[1,0] - 1\n",
    "    return -1*(num/den + 1)"
   ]
  },
  {
   "cell_type": "code",
   "execution_count": 10,
   "metadata": {},
   "outputs": [],
   "source": [
    "N = 2                        # number of countries\n",
    "L = np.array([1, 1])         # country sizes        \n",
    "mu = np.array([1, 1])        # mass of potential firms\n",
    "rho = 0.8                    # 1/(1-rho) is the elasticity of substitution between varieties  \n",
    "alpha = 0.4                  # share of spending on differentiated goods\n",
    "gamma = 6.5                  # shape parameter of Pareto distribution\n",
    "w = np.array([1, 1])         # wages\n",
    "xBar=np.array([1, 1])        # lower bound on productivity"
   ]
  },
  {
   "cell_type": "code",
   "execution_count": 13,
   "metadata": {},
   "outputs": [
    {
     "name": "stdout",
     "output_type": "stream",
     "text": [
      "1. The cutoff productivities are:\n",
      " [[1.233 1.686]\n",
      " [1.686 1.233]]\n",
      "\n",
      "2. The masses of differentiated imported goods consumed are 0.0335 and 0.0335.\n",
      "\n",
      "3. The masses of differentiated domestic goods consumed are 0.2566 and 0.2566.\n",
      "\n",
      "4. The CES aggregate price indexes for differentiated goods are [1.059 1.059]\n",
      "\n",
      "5. The f.o.b. value of imports is 0.0758 and 0.0758.\n",
      "\n",
      "6. The value of consumption from domestic firms is 0.3335 and 0.3335.\n"
     ]
    }
   ],
   "source": [
    "# Set up parameters\n",
    "tau_high = np.array([[1.00, 1.15], [1.15, 1.00]])  #iceberg trade costs  \n",
    "k = np.array([ [0.1, 0.2], [0.2, 0.1]]) # fixed cost to serve market\n",
    "\n",
    "# Solve the model\n",
    "guess = np.array([1.0, 1.0, 0.106, 0.106])  # [home price, foreign price, home profit, foreign profit]\n",
    "sol  = scipy.optimize.newton_krylov(lambda g: sysEq(g, mu, tau_high, rho, xBar, N, gamma, alpha, w, L, k), guess, f_tol = 0.0001)\n",
    "\n",
    "# Report reults\n",
    "sales_high = report_results(sol, w, L, N, rho, alpha, tau_high, gamma, xBar)"
   ]
  },
  {
   "cell_type": "markdown",
   "metadata": {},
   "source": [
    "c. Gains from trade."
   ]
  },
  {
   "cell_type": "code",
   "execution_count": 15,
   "metadata": {},
   "outputs": [
    {
     "name": "stdout",
     "output_type": "stream",
     "text": [
      "1. The cutoff productivities are:\n",
      " [[1.285 1.528]\n",
      " [1.528 1.285]]\n",
      "\n",
      "2. The masses of differentiated imported goods consumed are 0.0637 and 0.0637.\n",
      "\n",
      "3. The masses of differentiated domestic goods consumed are 0.1963 and 0.1963.\n",
      "\n",
      "4. The CES aggregate price indexes for differentiated goods are [1.016 1.016]\n",
      "\n",
      "5. The f.o.b. value of imports is 0.1655 and 0.1655.\n",
      "\n",
      "6. The value of consumption from domestic firms is 0.2552 and 0.2552.\n"
     ]
    }
   ],
   "source": [
    "# Set up parameters\n",
    "tau_low = np.array([[1.00, 1.00], [1.00, 1.00]])  #iceberg trade costs\n",
    "\n",
    "# Solve the model\n",
    "guess = np.array([1.0, 1.0, 0.106, 0.106])  # [home price, foreign price, home profit, foreign profit]\n",
    "sol  = scipy.optimize.newton_krylov(lambda g: sysEq(g, mu, tau_low, rho, xBar, N, gamma, alpha, w, L, k), guess, f_tol = 0.0001)\n",
    "\n",
    "# Report reults\n",
    "sales_low = report_results(sol, w, L, N, rho, alpha, tau_low, gamma, xBar)"
   ]
  },
  {
   "cell_type": "markdown",
   "metadata": {},
   "source": [
    "d. Nonlinearities."
   ]
  },
  {
   "cell_type": "code",
   "execution_count": 16,
   "metadata": {},
   "outputs": [
    {
     "name": "stdout",
     "output_type": "stream",
     "text": [
      "1. The cutoff productivities are:\n",
      " [[1.233 1.686]\n",
      " [1.686 1.233]]\n",
      "\n",
      "2. The masses of differentiated imported goods consumed are 0.0335 and 0.0335.\n",
      "\n",
      "3. The masses of differentiated domestic goods consumed are 0.2566 and 0.2566.\n",
      "\n",
      "4. The CES aggregate price indexes for differentiated goods are [1.059 1.059]\n",
      "\n",
      "5. The f.o.b. value of imports is 0.0758 and 0.0758.\n",
      "\n",
      "6. The value of consumption from domestic firms is 0.3335 and 0.3335.\n"
     ]
    }
   ],
   "source": [
    "# Set up parameters\n",
    "tau_eps = np.array([[1.00, 1.14999], [1.14999, 1.00]])  #iceberg trade costs\n",
    "\n",
    "# Solve the model\n",
    "guess = np.array([1.0, 1.0, 0.106, 0.106])  # [home price, foreign price, home profit, foreign profit]\n",
    "sol  = scipy.optimize.newton_krylov(lambda g: sysEq(g, mu, tau_eps, rho, xBar, N, gamma, alpha, w, L, k), guess, f_tol = 0.0001)\n",
    "\n",
    "# Report reults\n",
    "sales_eps = report_results(sol, w, L, N, rho, alpha, tau_eps, gamma, xBar)"
   ]
  },
  {
   "cell_type": "code",
   "execution_count": 17,
   "metadata": {},
   "outputs": [
    {
     "name": "stdout",
     "output_type": "stream",
     "text": [
      "The elasticity is 6.500, which corresponds to the shape parameter in the Pareto distribution of productivities.\n"
     ]
    }
   ],
   "source": [
    "sig_eps = elasticity(sales_high, sales_eps, tau_high, tau_eps)\n",
    "print('The elasticity is {0:.3f}, which corresponds to the shape parameter in the Pareto distribution of productivities.'.\n",
    "      format(sig_eps))"
   ]
  },
  {
   "cell_type": "code",
   "execution_count": 18,
   "metadata": {},
   "outputs": [
    {
     "name": "stdout",
     "output_type": "stream",
     "text": [
      "1. The cutoff productivities are:\n",
      " [[1.262 1.576]\n",
      " [1.576 1.262]]\n",
      "\n",
      "2. The masses of differentiated imported goods consumed are 0.0519 and 0.0519.\n",
      "\n",
      "3. The masses of differentiated domestic goods consumed are 0.2198 and 0.2198.\n",
      "\n",
      "4. The CES aggregate price indexes for differentiated goods are [1.034 1.034]\n",
      "\n",
      "5. The f.o.b. value of imports is 0.1285 and 0.1285.\n",
      "\n",
      "6. The value of consumption from domestic firms is 0.2858 and 0.2858.\n"
     ]
    }
   ],
   "source": [
    "# Set up parameters\n",
    "tau_05 = np.array([[1.00, 1.05], [1.05, 1.00]])  #iceberg trade costs \n",
    "\n",
    "# Solve the model\n",
    "guess = np.array([1.0, 1.0, 0.106, 0.106])  # [home price, foreign price, home profit, foreign profit]\n",
    "sol  = scipy.optimize.newton_krylov(lambda g: sysEq(g, mu, tau_05, rho, xBar, N, gamma, alpha, w, L, k), guess, f_tol = 0.0001)\n",
    "\n",
    "# Report reults\n",
    "sales_05 = report_results(sol, w, L, N, rho, alpha, tau_05, gamma, xBar)"
   ]
  },
  {
   "cell_type": "code",
   "execution_count": 19,
   "metadata": {},
   "outputs": [
    {
     "name": "stdout",
     "output_type": "stream",
     "text": [
      "The three elasticities are 6.500, 10.252, and 13.203.\n"
     ]
    }
   ],
   "source": [
    "sig_05 = elasticity(sales_high, sales_05, tau_high, tau_05)\n",
    "sig_low = elasticity(sales_high, sales_low, tau_high, tau_low)\n",
    "\n",
    "print('The three elasticities are {0:.3f}, {1:.3f}, and {2:.3f}.'.format(sig_eps, sig_05, sig_low))"
   ]
  },
  {
   "cell_type": "code",
   "execution_count": 20,
   "metadata": {},
   "outputs": [
    {
     "data": {
      "image/png": "[encoded data removed]",
      "text/plain": [
       "<Figure size 1080x432 with 1 Axes>"
      ]
     },
     "metadata": {
      "needs_background": "light"
     },
     "output_type": "display_data"
    }
   ],
   "source": [
    "fig, ax = plt.subplots(figsize=(15,6))\n",
    "\n",
    "ax.plot([0.00001, 0.10, 0.15], [sig_eps, sig_05, sig_low], color='red', marker = 'o')\n",
    "\n",
    "ax.set_ylabel('elasticity')\n",
    "ax.set_xlabel('change in tariff')\n",
    "ax.set_title('The nonlinear elasticity in the Melitz model')\n",
    "\n",
    "ax.spines['top'].set_visible(False)\n",
    "ax.spines['right'].set_visible(False)\n",
    "\n",
    "plt.show()"
   ]
  },
  {
   "cell_type": "code",
   "execution_count": null,
   "metadata": {},
   "outputs": [],
   "source": []
  }
 ],
 "metadata": {
  "kernelspec": {
   "display_name": "Python 3",
   "language": "python",
   "name": "python3"
  },
  "language_info": {
   "codemirror_mode": {
    "name": "ipython",
    "version": 3
   },
   "file_extension": ".py",
   "mimetype": "text/x-python",
   "name": "python",
   "nbconvert_exporter": "python",
   "pygments_lexer": "ipython3",
   "version": "3.6.6"
  }
 },
 "nbformat": 4,
 "nbformat_minor": 2
}
