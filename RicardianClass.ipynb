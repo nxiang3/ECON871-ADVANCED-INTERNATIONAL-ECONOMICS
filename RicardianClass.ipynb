{
 "cells": [
  {
   "cell_type": "markdown",
   "metadata": {},
   "source": [
    "# **ECON871: RICARDIAN MODEL**"
   ]
  },
  {
   "cell_type": "markdown",
   "metadata": {},
   "source": [
    "<blockquote>This is a learning practice both for python and international economics. We build a simple 3-country Ricardian Model from Eaton & Kortum (2002).</blockquote>"
   ]
  },
  {
   "cell_type": "markdown",
   "metadata": {},
   "source": [
    "Parameters of interest are:\n",
    "<ul>\n",
    "   <li> N is number of countries</li>\n",
    "   <li> K is number of commodities</li>\n",
    "   <li> &theta; is the dispersion of Frechet distribution</li>\n",
    "   <li> &sigma; is elasticity</li>\n",
    "   <li> &tau; is the trade cost matrix</li>\n",
    "   <li> T is the technology array</li>\n",
    "   <li> L is the labor enodowment matrix</li>\n",
    "   <li> wage is wage matrix</li>\n",
    "   <li> welfare is calculated by wage/L</li>\n",
    "   <li> P is price index array</li>\n",
    "   <li> Trade_Volume is the trade value matrix</li>\n",
    "   <li> Share is the trade value share matrix</li>\n",
    "</ul>"
   ]
  },
  {
   "cell_type": "markdown",
   "metadata": {},
   "source": [
    "__Steps to Implement Ricardian Model__"
   ]
  },
  {
   "cell_type": "markdown",
   "metadata": {},
   "source": [
    "<ol>\n",
    "    <li>Generate an instance</li>\n",
    "    <li>Change the Parameter as you want</li>\n",
    "    <li>Generally, use sovle() function to solve for a wage vector</li>\n",
    "    <li>Run report() to get all results</li>\n",
    "<ol>"
   ]
  },
  {
   "cell_type": "code",
   "execution_count": 1,
   "metadata": {},
   "outputs": [],
   "source": [
    "import numpy as np\n",
    "from scipy.optimize import fsolve \n",
    "import math\n",
    "np.set_printoptions(formatter={'float': lambda x: \"{0:0.3f}\".format(x)})\n",
    "\n",
    "class Ricardian:\n",
    "    \n",
    "     \n",
    "    def __init__(self, N=3,                   # CNTY number\n",
    "                       K=200000,              # Commodity number\n",
    "                       theta = 4,             # Frechet Parameter2\n",
    "                       sig = 2,               # Elasticity\n",
    "                       tau = np.ones((3, 3)), # Trade cost\n",
    "                       set_seed = 4):         # seed for productivity\n",
    "\n",
    "        self.N, self.K, self.theta, self.sig, self.seed = N, K, theta, sig, set_seed\n",
    "        self.L, self.T, self.tau = np.ones(N), 1.5*np.ones(N), np.ones((N, N))\n",
    "        self.wage, self.welfare= np.ones((N-1, 1)), np.ones(N)\n",
    "        self.P, self.Trade_Volume, self.Share = np.ones((N, 1)), np.ones((N, N)), np.ones((N, N))\n",
    "    \n",
    "    def set_Labor(self,L):\n",
    "        self.L = L\n",
    "    def set_T(self, T):\n",
    "        self.T = T\n",
    "    def set_theta(self, theta):\n",
    "        self.theta = theta\n",
    "    def set_tau(self, tau):\n",
    "        self.tau = tau\n",
    "    def set_wage(self, wage):\n",
    "        self.wage = wage\n",
    "        \n",
    "    #Generate Frechet random number   \n",
    "    def cdf_inv(self, u,T):\n",
    "        return (-1/T * np.log(u))**(-1/self.theta)\n",
    "    \n",
    "    def productivity_gen(self):\n",
    "        #Return matrix z\n",
    "        z = np.ones((self.K, self.N))\n",
    "        #Draw uniform random numbers.\n",
    "        np.random.seed(seed = self.seed)\n",
    "        uni = np.random.rand(self.K, self.N)\n",
    "        #Convert to Frechet randoms, make it simpler?\n",
    "        for j in range(0,self.N):\n",
    "            for i in range(0,self.K):\n",
    "                z[i,j] = self.cdf_inv(uni[i,j], self.T[j])\n",
    "        return z\n",
    "    \n",
    "     # Define a function to compute pni and pn return \n",
    "     # a vector of prices and suppliers\n",
    "    def trade_decision(self):\n",
    "        z = self.productivity_gen()\n",
    "        #Add normalized wage1\n",
    "        wage = np.insert(self.wage, 0, 1)\n",
    "    \n",
    "        #Price Index and Spending Share\n",
    "        P = np.zeros((self.N, 1))\n",
    "        Trade_Volume = np.zeros((self.N, self.N))\n",
    "        Share = np.zeros((self.N,self. N))\n",
    "    \n",
    "        #For each country, get its cheapest supplier and price\n",
    "        for n in range(0, self.N): \n",
    "            index = np.argmin(wage * self.tau[n, :] / z, axis = 1)\n",
    "            # price index for country n\n",
    "            p = (wage * self.tau[n, :] / z)[range(self.K), index]\n",
    "            P[n, 0] = (np.sum( 1 / self.K * p ** (1 - self.sig))) ** (1/(1 - self.sig))\n",
    "        \n",
    "            #spending = wage[n] * self.L[n] * (p / P[n, 0]) ** (1 - self.sig)\n",
    "            spending = wage[n] * self.L[n] * (p / P[n, 0]) ** (1 - self.sig)\n",
    "        \n",
    "            for j in range(0, self.N):\n",
    "                Trade_Volume[n, j] = np.sum(spending [index == j])\n",
    "            \n",
    "        row_sum = [sum(Trade_Volume[n,:]) for n in range(self.N)]\n",
    "        \n",
    "        for i in range(0, self.N):\n",
    "            Share[i,:] = Trade_Volume[i,:] / row_sum[i]\n",
    "            \n",
    "        self.P, self.Trade_Volume, self.Share = P, Trade_Volume, Share\n",
    "     \n",
    "    ##N-1 D equations\n",
    "    def f(self, w):\n",
    "        self.set_wage(w) \n",
    "        self.trade_decision()\n",
    "        y = np.empty(self.N-1)\n",
    "        for n in range(self.N-1):\n",
    "            y[n] = sum(self.Trade_Volume[n,:]) - sum(self.Trade_Volume[:,n])\n",
    "        return y\n",
    "     \n",
    "    def solve(self):\n",
    "        self.wage = fsolve(self.f, self.wage)\n",
    "    \n",
    "    ##Welfare calculation\n",
    "    def welfare_get(self):\n",
    "        self.trade_decision()\n",
    "        wage = np.insert(self.wage, 0, 1)\n",
    "        for n in range(0, self.N):\n",
    "            self.welfare[n] = wage[n] / self.P[n]\n",
    "            \n",
    "    ##Report all results\n",
    "    def report(self):\n",
    "        np.set_printoptions(formatter={'float': lambda x: \"{0:0.3f}\".format(x)})\n",
    "        self.trade_decision()\n",
    "        self.welfare_get()\n",
    "        wage = np.insert(self.wage, 0, 1)\n",
    "        print('The equilibrium wage vector is:', wage)\n",
    "        print('\\nThe trade share matrix is:\\n', self.Share)\n",
    "        print('\\nWelfare (w/P) is:', self.welfare)\n"
   ]
  },
  {
   "cell_type": "markdown",
   "metadata": {},
   "source": [
    "<b>a. Simple and symmetric.</b>Let there be no trade costs, i.e., $\\tau_{ni} = 0$, and let $T_i = 1.5$ for all $i$. Report the equilibrium bilateral trade share matrix. (An element of the matrix is $\\pi_{ ni}$, the share of total spending in $n$ on goods from $i$.) The solution to this model is trivial, so this is a good place to first check that our programs are working."
   ]
  },
  {
   "cell_type": "code",
   "execution_count": 2,
   "metadata": {},
   "outputs": [
    {
     "name": "stdout",
     "output_type": "stream",
     "text": [
      "The expenditure matrix is:\n",
      "[[0.335 0.332 0.333]\n",
      " [0.335 0.332 0.333]\n",
      " [0.335 0.332 0.333]]\n"
     ]
    }
   ],
   "source": [
    "r1 = Ricardian()\n",
    "\n",
    "r1.trade_decision()\n",
    "\n",
    "print('The expenditure matrix is:')\n",
    "print(r1.Share)"
   ]
  },
  {
   "cell_type": "markdown",
   "metadata": {},
   "source": [
    "<b>b. Symmetric geography. </b>Now introduce iceberg trade costs. Let $\\tau_{ ni} = 0.1$ for each $n \\neq i$, and keep the remaining parameters as in part (a). Report the bilateral trade share matrix."
   ]
  },
  {
   "cell_type": "code",
   "execution_count": 3,
   "metadata": {},
   "outputs": [
    {
     "name": "stdout",
     "output_type": "stream",
     "text": [
      "\n",
      "The expenditure matrix is:\n",
      "[[0.424 0.288 0.289]\n",
      " [0.290 0.422 0.289]\n",
      " [0.291 0.288 0.422]]\n"
     ]
    }
   ],
   "source": [
    "# Create the trade cost matrix\n",
    "tau = np.ones((3, 3))*1.1\n",
    "for n in range(0,3):\n",
    "    tau[n, n] = 1.0\n",
    "    \n",
    "r2 = Ricardian()\n",
    "r2.set_tau(tau)\n",
    "r2.trade_decision()\n",
    "\n",
    "print('\\nThe expenditure matrix is:')\n",
    "print(r2.Share)"
   ]
  },
  {
   "cell_type": "markdown",
   "metadata": {},
   "source": [
    "<b>c. Asymmetric geography. </b>Countries have identical technologies, $T_i = 1.5$ for all $i$, and $\\theta = 4$. Country 3, however, is 'far away' from countries 1 and 2: $\\tau_{12} = \\tau_{ 21} = 1.05$ and $\\tau_{ 13} = \\tau_{ 31} = \\tau_{ 32} = \\tau_{ 23} = 1.3$. Report the equilibrium bilateral trade share matrix. (An element of the matrix is $\\pi_{ni}$, the share of total spending in $n$ on goods from $i$.) Report an index of welfare in each country, $w_i /P_i$ , where $P_i$ is the CES aggregate price index."
   ]
  },
  {
   "cell_type": "code",
   "execution_count": 4,
   "metadata": {
    "scrolled": true
   },
   "outputs": [
    {
     "name": "stdout",
     "output_type": "stream",
     "text": [
      "The equilibrium wage vector is: [1.000 0.998 0.963]\n",
      "\n",
      "The trade share matrix is:\n",
      " [[0.449 0.369 0.182]\n",
      " [0.369 0.448 0.182]\n",
      " [0.190 0.188 0.622]]\n",
      "\n",
      "Welfare (w/P) is: [1.660 1.657 1.527]\n"
     ]
    }
   ],
   "source": [
    "tau[0,:] = [1.0, 1.05, 1.3]\n",
    "tau[1,:] = [1.05, 1.0, 1.3]\n",
    "tau[2,:] = [1.3, 1.3, 1.0]\n",
    "\n",
    "r3 = Ricardian()\n",
    "r3.set_tau(tau)\n",
    "r3.solve()\n",
    "r3.report()"
   ]
  },
  {
   "cell_type": "markdown",
   "metadata": {},
   "source": [
    "<b>d. Technological progress. </b>Let $T_2 = 3$, and keep the remaining parameters as in part (c). This is a technological improvement in country 2. Report the bilateral trade share matrix.\n",
    "\n",
    "Compare welfare in this economy with welfare in the economy in part (c). Discuss your findings in the context of how an increase in technology in one country benefits other countries."
   ]
  },
  {
   "cell_type": "code",
   "execution_count": 5,
   "metadata": {},
   "outputs": [
    {
     "name": "stdout",
     "output_type": "stream",
     "text": [
      "The equilibrium wage vector is: [1.000 1.149 0.960]\n",
      "\n",
      "The trade share matrix is:\n",
      " [[0.426 0.398 0.176]\n",
      " [0.347 0.480 0.174]\n",
      " [0.183 0.208 0.609]]\n",
      "\n",
      "Welfare (w/P) is: [1.682 1.938 1.535]\n"
     ]
    }
   ],
   "source": [
    "r4 = Ricardian()\n",
    "r4.T[1] = 3\n",
    "\n",
    "tau[0,:] = [1.0, 1.05, 1.3]\n",
    "tau[1,:] = [1.05, 1.0, 1.3]\n",
    "tau[2,:] = [1.3, 1.3, 1.0]\n",
    "r4.set_tau(tau)\n",
    "\n",
    "r4.solve()\n",
    "r4.report()"
   ]
  },
  {
   "cell_type": "markdown",
   "metadata": {},
   "source": [
    "<b>e. Frechet dispersion. </b>Now change $\\theta = 8$, and keep the remaining parameters as in part (c) (i.e., change $T_2 = 1.5$).Report the bilateral trade share matrix. Compare welfare in this economy with welfare in the economy in part (c). What is the intuition for this result? How does the change in $\\theta$ affect countries 1 and 2 compared to country 3? Why? "
   ]
  },
  {
   "cell_type": "code",
   "execution_count": 6,
   "metadata": {},
   "outputs": [
    {
     "name": "stdout",
     "output_type": "stream",
     "text": [
      "The equilibrium wage vector is: [1.000 0.999 0.975]\n",
      "\n",
      "The trade share matrix is:\n",
      " [[0.547 0.371 0.082]\n",
      " [0.371 0.548 0.082]\n",
      " [0.085 0.083 0.832]]\n",
      "\n",
      "Welfare (w/P) is: [1.237 1.236 1.173]\n"
     ]
    }
   ],
   "source": [
    "r3.set_theta(8)\n",
    "r3.solve()\n",
    "r3.report()"
   ]
  },
  {
   "cell_type": "markdown",
   "metadata": {},
   "source": [
    "It is worth noting that higher &theta; results more welfare loss for CNTY1 and 2. This is because higher &theta; makes the productivity distribution more concentrated. Intuitively, the productivity difference between countries is smaller, thus more loss are incurred when one of the countries raises its trade cost."
   ]
  },
  {
   "cell_type": "markdown",
   "metadata": {},
   "source": [
    "<h2>More on OOP:"
   ]
  },
  {
   "cell_type": "markdown",
   "metadata": {},
   "source": [
    "one of the advantage of OOP is that it facilitates counterfactual analysis. In the following example, we compare the welfare loss when countries turn from frictionless trade to autarky."
   ]
  },
  {
   "cell_type": "code",
   "execution_count": 7,
   "metadata": {
    "scrolled": true
   },
   "outputs": [
    {
     "name": "stdout",
     "output_type": "stream",
     "text": [
      "\n",
      "Welfare Loss between a frictionless and autarky world:\n",
      "  [0.760 0.759 0.759]\n"
     ]
    }
   ],
   "source": [
    "r_fl = Ricardian()\n",
    "r_a = Ricardian()\n",
    "tau = math.inf * np.ones((3, 3))\n",
    "for n in range(3):\n",
    "    tau[n, n] = 1\n",
    "r_a.set_tau(tau)\n",
    "r_a.solve()\n",
    "r_a.welfare_get()\n",
    "r_fl.welfare_get()\n",
    "print(\"\\nWelfare Loss between a frictionless and autarky world:\\n \", r_a.welfare / r_fl.welfare)"
   ]
  },
  {
   "cell_type": "markdown",
   "metadata": {},
   "source": [
    "Therefore, under our default setting, welfare of autarky is approximately 75% that of frictionless trade."
   ]
  }
 ],
 "metadata": {
  "kernelspec": {
   "display_name": "Python 3",
   "language": "python",
   "name": "python3"
  },
  "language_info": {
   "codemirror_mode": {
    "name": "ipython",
    "version": 3
   },
   "file_extension": ".py",
   "mimetype": "text/x-python",
   "name": "python",
   "nbconvert_exporter": "python",
   "pygments_lexer": "ipython3",
   "version": "3.6.6"
  }
 },
 "nbformat": 4,
 "nbformat_minor": 2
}
